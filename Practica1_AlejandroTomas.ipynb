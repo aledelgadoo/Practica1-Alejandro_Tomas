{
 "cells": [
  {
   "cell_type": "markdown",
   "metadata": {},
   "source": [
    "<p>\n",
    "<img src=\"./imgs/EII-ULPGC-logo.jpeg\" width=\"430px\" align=\"right\">"
   ]
  },
  {
   "cell_type": "markdown",
   "metadata": {},
   "source": [
    "# **Procesamiento de imágenes - Práctica 1**\n",
    "Alejandro Delgado Valera  \n",
    "Tomás Santana Suárez"
   ]
  },
  {
   "cell_type": "markdown",
   "metadata": {},
   "source": [
    "-----\n",
    "\n",
    "### **Ejercicios**\n",
    "\n",
    "1. Lee y visualiza el vídeo `carretera.mp4`.\n",
    "2. Promedia las imágenes del vídeo para obtener un fondo sin coches.\n",
    "3. Resta el fondo a cada imagen del vídeo.\n",
    "4. Umbraliza la imagen resultante para quedarte únicamente con las zonas donde hay diferencias significativas en el valor de los píxeles.\n",
    "4. Detecta los blobs que correspondan a coches, ten en cuenta que los coches son más grandes que el ruido."
   ]
  },
  {
   "cell_type": "markdown",
   "metadata": {},
   "source": [
    "Añadimos las librerías:"
   ]
  },
  {
   "cell_type": "code",
   "execution_count": 1,
   "metadata": {},
   "outputs": [],
   "source": [
    "import cv2\n",
    "import numpy as np\n",
    "import matplotlib.pyplot as plt"
   ]
  },
  {
   "cell_type": "markdown",
   "metadata": {},
   "source": [
    "Ap 1)"
   ]
  },
  {
   "cell_type": "code",
   "execution_count": 3,
   "metadata": {},
   "outputs": [],
   "source": [
    "cap = cv2.VideoCapture(\"carretera.mp4\")\n",
    "\n",
    "# Mensaje por si no podemos acceder al archivo\n",
    "if not cap.isOpened():\n",
    "    print(\"Error!\")\n",
    "    exit()\n",
    "\n",
    "# Visualizar el vídeo\n",
    "while(True):\n",
    "    \n",
    "    ret, frame = cap.read()\n",
    "    \n",
    "    # Comprobamos que se esté visualizando correctamente\n",
    "    if not ret:\n",
    "        print(\"Fin del vídeo\")\n",
    "        break\n",
    "\n",
    "    # Ajustamos para que el vídeo ocupe menos\n",
    "    frame = cv2.resize(frame, (400, 300))\n",
    "\n",
    "    cv2.imshow('Vídeo original', frame)\n",
    "    \n",
    "    # Para cerrar el vídeo\n",
    "    if cv2.waitKey(5) & 0xFF == 27:# Código ACII esc == 27:\n",
    "        break\n",
    "\n",
    "cv2.destroyAllWindows()\n",
    "\n",
    "# Release el frame\n",
    "cap.release()\n"
   ]
  },
  {
   "cell_type": "markdown",
   "metadata": {},
   "source": [
    "Ap 2)"
   ]
  },
  {
   "cell_type": "code",
   "execution_count": null,
   "metadata": {},
   "outputs": [],
   "source": [
    "total_frames = 0\n",
    "\n",
    "# Visualizar el vídeo\n",
    "while(True):\n",
    "    ret, frame = cap.read()\n",
    "    \n",
    "    total_frames += 1\n",
    "    \n",
    "    # Comprobamos que se esté visualizando correctamente\n",
    "    if not ret:\n",
    "        print(\"Fin del vídeo\")\n",
    "        break\n",
    "\n",
    "    # Ajustamos para que el vídeo ocupe menos\n",
    "    frame = cv2.resize(frame, (400, 300))\n",
    "\n",
    "    cv2.imshow('Vídeo original', frame)\n",
    "    \n",
    "    # Para cerrar el vídeo\n",
    "    if cv2.waitKey(5) & 0xFF == 27:# Código ACII esc == 27:\n",
    "        break\n",
    "\n",
    "cv2.destroyAllWindows()\n",
    "\n",
    "# Release el frame\n",
    "cap.release()\n"
   ]
  }
 ],
 "metadata": {
  "kernelspec": {
   "display_name": ".venv",
   "language": "python",
   "name": "python3"
  },
  "language_info": {
   "codemirror_mode": {
    "name": "ipython",
    "version": 3
   },
   "file_extension": ".py",
   "mimetype": "text/x-python",
   "name": "python",
   "nbconvert_exporter": "python",
   "pygments_lexer": "ipython3",
   "version": "3.11.9"
  },
  "orig_nbformat": 4
 },
 "nbformat": 4,
 "nbformat_minor": 2
}
